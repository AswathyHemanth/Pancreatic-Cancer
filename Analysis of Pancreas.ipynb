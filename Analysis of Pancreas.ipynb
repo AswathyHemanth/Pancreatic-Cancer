{
 "cells": [
  {
   "cell_type": "markdown",
   "id": "c40edf20",
   "metadata": {},
   "source": [
    "Import the libraries"
   ]
  },
  {
   "cell_type": "code",
   "execution_count": 1,
   "id": "8f218fee",
   "metadata": {},
   "outputs": [],
   "source": [
    "import numpy as np\n",
    "import pandas as pa"
   ]
  },
  {
   "cell_type": "markdown",
   "id": "08d7da2b",
   "metadata": {},
   "source": [
    "Read the csv file"
   ]
  },
  {
   "cell_type": "code",
   "execution_count": 2,
   "id": "e3d061a1",
   "metadata": {},
   "outputs": [],
   "source": [
    "pancreas=pa.read_csv(\"pancreas_changed.csv\")"
   ]
  },
  {
   "cell_type": "markdown",
   "id": "af0bedd4",
   "metadata": {},
   "source": [
    "view the first 5 data in the dataset"
   ]
  },
  {
   "cell_type": "code",
   "execution_count": 3,
   "id": "0c83e8d9",
   "metadata": {},
   "outputs": [
    {
     "data": {
      "text/html": [
       "<div>\n",
       "<style scoped>\n",
       "    .dataframe tbody tr th:only-of-type {\n",
       "        vertical-align: middle;\n",
       "    }\n",
       "\n",
       "    .dataframe tbody tr th {\n",
       "        vertical-align: top;\n",
       "    }\n",
       "\n",
       "    .dataframe thead th {\n",
       "        text-align: right;\n",
       "    }\n",
       "</style>\n",
       "<table border=\"1\" class=\"dataframe\">\n",
       "  <thead>\n",
       "    <tr style=\"text-align: right;\">\n",
       "      <th></th>\n",
       "      <th>Unnamed: 0</th>\n",
       "      <th>age</th>\n",
       "      <th>sex</th>\n",
       "      <th>stage</th>\n",
       "      <th>plasma_CA19_9</th>\n",
       "      <th>creatinine</th>\n",
       "      <th>LYVE1</th>\n",
       "      <th>REG1B</th>\n",
       "      <th>TFF1</th>\n",
       "      <th>REG1A</th>\n",
       "      <th>diagnosis</th>\n",
       "    </tr>\n",
       "  </thead>\n",
       "  <tbody>\n",
       "    <tr>\n",
       "      <th>0</th>\n",
       "      <td>0</td>\n",
       "      <td>33</td>\n",
       "      <td>0</td>\n",
       "      <td>0</td>\n",
       "      <td>11.700000</td>\n",
       "      <td>1.83222</td>\n",
       "      <td>0.893219</td>\n",
       "      <td>52.94884</td>\n",
       "      <td>654.282174</td>\n",
       "      <td>1262.000000</td>\n",
       "      <td>1</td>\n",
       "    </tr>\n",
       "    <tr>\n",
       "      <th>1</th>\n",
       "      <td>1</td>\n",
       "      <td>81</td>\n",
       "      <td>0</td>\n",
       "      <td>0</td>\n",
       "      <td>654.002944</td>\n",
       "      <td>0.97266</td>\n",
       "      <td>2.037585</td>\n",
       "      <td>94.46703</td>\n",
       "      <td>209.488250</td>\n",
       "      <td>228.407000</td>\n",
       "      <td>1</td>\n",
       "    </tr>\n",
       "    <tr>\n",
       "      <th>2</th>\n",
       "      <td>2</td>\n",
       "      <td>51</td>\n",
       "      <td>1</td>\n",
       "      <td>0</td>\n",
       "      <td>7.000000</td>\n",
       "      <td>0.78039</td>\n",
       "      <td>0.145589</td>\n",
       "      <td>102.36600</td>\n",
       "      <td>461.141000</td>\n",
       "      <td>735.281222</td>\n",
       "      <td>1</td>\n",
       "    </tr>\n",
       "    <tr>\n",
       "      <th>3</th>\n",
       "      <td>3</td>\n",
       "      <td>61</td>\n",
       "      <td>1</td>\n",
       "      <td>0</td>\n",
       "      <td>8.000000</td>\n",
       "      <td>0.70122</td>\n",
       "      <td>0.002805</td>\n",
       "      <td>60.57900</td>\n",
       "      <td>142.950000</td>\n",
       "      <td>735.281222</td>\n",
       "      <td>1</td>\n",
       "    </tr>\n",
       "    <tr>\n",
       "      <th>4</th>\n",
       "      <td>4</td>\n",
       "      <td>62</td>\n",
       "      <td>1</td>\n",
       "      <td>0</td>\n",
       "      <td>9.000000</td>\n",
       "      <td>0.21489</td>\n",
       "      <td>0.000860</td>\n",
       "      <td>65.54000</td>\n",
       "      <td>41.088000</td>\n",
       "      <td>735.281222</td>\n",
       "      <td>1</td>\n",
       "    </tr>\n",
       "  </tbody>\n",
       "</table>\n",
       "</div>"
      ],
      "text/plain": [
       "   Unnamed: 0  age  sex  stage  plasma_CA19_9  creatinine     LYVE1  \\\n",
       "0           0   33    0      0      11.700000     1.83222  0.893219   \n",
       "1           1   81    0      0     654.002944     0.97266  2.037585   \n",
       "2           2   51    1      0       7.000000     0.78039  0.145589   \n",
       "3           3   61    1      0       8.000000     0.70122  0.002805   \n",
       "4           4   62    1      0       9.000000     0.21489  0.000860   \n",
       "\n",
       "       REG1B        TFF1        REG1A  diagnosis  \n",
       "0   52.94884  654.282174  1262.000000          1  \n",
       "1   94.46703  209.488250   228.407000          1  \n",
       "2  102.36600  461.141000   735.281222          1  \n",
       "3   60.57900  142.950000   735.281222          1  \n",
       "4   65.54000   41.088000   735.281222          1  "
      ]
     },
     "execution_count": 3,
     "metadata": {},
     "output_type": "execute_result"
    }
   ],
   "source": [
    "pancreas.head(5)"
   ]
  },
  {
   "cell_type": "markdown",
   "id": "9838c547",
   "metadata": {},
   "source": [
    "Using the describe fn to get some details about the data"
   ]
  },
  {
   "cell_type": "code",
   "execution_count": 4,
   "id": "0093c7e4",
   "metadata": {},
   "outputs": [
    {
     "data": {
      "text/html": [
       "<div>\n",
       "<style scoped>\n",
       "    .dataframe tbody tr th:only-of-type {\n",
       "        vertical-align: middle;\n",
       "    }\n",
       "\n",
       "    .dataframe tbody tr th {\n",
       "        vertical-align: top;\n",
       "    }\n",
       "\n",
       "    .dataframe thead th {\n",
       "        text-align: right;\n",
       "    }\n",
       "</style>\n",
       "<table border=\"1\" class=\"dataframe\">\n",
       "  <thead>\n",
       "    <tr style=\"text-align: right;\">\n",
       "      <th></th>\n",
       "      <th>Unnamed: 0</th>\n",
       "      <th>age</th>\n",
       "      <th>sex</th>\n",
       "      <th>stage</th>\n",
       "      <th>plasma_CA19_9</th>\n",
       "      <th>creatinine</th>\n",
       "      <th>LYVE1</th>\n",
       "      <th>REG1B</th>\n",
       "      <th>TFF1</th>\n",
       "      <th>REG1A</th>\n",
       "      <th>diagnosis</th>\n",
       "    </tr>\n",
       "  </thead>\n",
       "  <tbody>\n",
       "    <tr>\n",
       "      <th>count</th>\n",
       "      <td>590.000000</td>\n",
       "      <td>590.000000</td>\n",
       "      <td>590.000000</td>\n",
       "      <td>590.000000</td>\n",
       "      <td>590.000000</td>\n",
       "      <td>590.000000</td>\n",
       "      <td>590.000000</td>\n",
       "      <td>590.000000</td>\n",
       "      <td>590.000000</td>\n",
       "      <td>590.000000</td>\n",
       "      <td>590.000000</td>\n",
       "    </tr>\n",
       "    <tr>\n",
       "      <th>mean</th>\n",
       "      <td>294.500000</td>\n",
       "      <td>59.079661</td>\n",
       "      <td>0.493220</td>\n",
       "      <td>2.091525</td>\n",
       "      <td>654.002944</td>\n",
       "      <td>0.855383</td>\n",
       "      <td>3.063530</td>\n",
       "      <td>111.774090</td>\n",
       "      <td>597.868722</td>\n",
       "      <td>735.281222</td>\n",
       "      <td>2.027119</td>\n",
       "    </tr>\n",
       "    <tr>\n",
       "      <th>std</th>\n",
       "      <td>170.462606</td>\n",
       "      <td>13.109520</td>\n",
       "      <td>0.500378</td>\n",
       "      <td>3.039932</td>\n",
       "      <td>1870.760130</td>\n",
       "      <td>0.639028</td>\n",
       "      <td>3.438796</td>\n",
       "      <td>196.267110</td>\n",
       "      <td>1010.477245</td>\n",
       "      <td>1063.030198</td>\n",
       "      <td>0.804873</td>\n",
       "    </tr>\n",
       "    <tr>\n",
       "      <th>min</th>\n",
       "      <td>0.000000</td>\n",
       "      <td>26.000000</td>\n",
       "      <td>0.000000</td>\n",
       "      <td>0.000000</td>\n",
       "      <td>0.000000</td>\n",
       "      <td>0.056550</td>\n",
       "      <td>0.000129</td>\n",
       "      <td>0.001104</td>\n",
       "      <td>0.005293</td>\n",
       "      <td>0.000000</td>\n",
       "      <td>1.000000</td>\n",
       "    </tr>\n",
       "    <tr>\n",
       "      <th>25%</th>\n",
       "      <td>147.250000</td>\n",
       "      <td>50.000000</td>\n",
       "      <td>0.000000</td>\n",
       "      <td>0.000000</td>\n",
       "      <td>17.000000</td>\n",
       "      <td>0.373230</td>\n",
       "      <td>0.167179</td>\n",
       "      <td>10.757216</td>\n",
       "      <td>43.961000</td>\n",
       "      <td>195.201000</td>\n",
       "      <td>1.000000</td>\n",
       "    </tr>\n",
       "    <tr>\n",
       "      <th>50%</th>\n",
       "      <td>294.500000</td>\n",
       "      <td>60.000000</td>\n",
       "      <td>0.000000</td>\n",
       "      <td>0.000000</td>\n",
       "      <td>654.002944</td>\n",
       "      <td>0.723840</td>\n",
       "      <td>1.649862</td>\n",
       "      <td>34.303353</td>\n",
       "      <td>259.873974</td>\n",
       "      <td>735.281222</td>\n",
       "      <td>2.000000</td>\n",
       "    </tr>\n",
       "    <tr>\n",
       "      <th>75%</th>\n",
       "      <td>441.750000</td>\n",
       "      <td>69.000000</td>\n",
       "      <td>1.000000</td>\n",
       "      <td>6.000000</td>\n",
       "      <td>654.002944</td>\n",
       "      <td>1.139482</td>\n",
       "      <td>5.205037</td>\n",
       "      <td>122.741013</td>\n",
       "      <td>742.736000</td>\n",
       "      <td>735.281222</td>\n",
       "      <td>3.000000</td>\n",
       "    </tr>\n",
       "    <tr>\n",
       "      <th>max</th>\n",
       "      <td>589.000000</td>\n",
       "      <td>89.000000</td>\n",
       "      <td>1.000000</td>\n",
       "      <td>8.000000</td>\n",
       "      <td>31000.000000</td>\n",
       "      <td>4.116840</td>\n",
       "      <td>23.890323</td>\n",
       "      <td>1403.897600</td>\n",
       "      <td>13344.300000</td>\n",
       "      <td>13200.000000</td>\n",
       "      <td>3.000000</td>\n",
       "    </tr>\n",
       "  </tbody>\n",
       "</table>\n",
       "</div>"
      ],
      "text/plain": [
       "       Unnamed: 0         age         sex       stage  plasma_CA19_9  \\\n",
       "count  590.000000  590.000000  590.000000  590.000000     590.000000   \n",
       "mean   294.500000   59.079661    0.493220    2.091525     654.002944   \n",
       "std    170.462606   13.109520    0.500378    3.039932    1870.760130   \n",
       "min      0.000000   26.000000    0.000000    0.000000       0.000000   \n",
       "25%    147.250000   50.000000    0.000000    0.000000      17.000000   \n",
       "50%    294.500000   60.000000    0.000000    0.000000     654.002944   \n",
       "75%    441.750000   69.000000    1.000000    6.000000     654.002944   \n",
       "max    589.000000   89.000000    1.000000    8.000000   31000.000000   \n",
       "\n",
       "       creatinine       LYVE1        REG1B          TFF1         REG1A  \\\n",
       "count  590.000000  590.000000   590.000000    590.000000    590.000000   \n",
       "mean     0.855383    3.063530   111.774090    597.868722    735.281222   \n",
       "std      0.639028    3.438796   196.267110   1010.477245   1063.030198   \n",
       "min      0.056550    0.000129     0.001104      0.005293      0.000000   \n",
       "25%      0.373230    0.167179    10.757216     43.961000    195.201000   \n",
       "50%      0.723840    1.649862    34.303353    259.873974    735.281222   \n",
       "75%      1.139482    5.205037   122.741013    742.736000    735.281222   \n",
       "max      4.116840   23.890323  1403.897600  13344.300000  13200.000000   \n",
       "\n",
       "        diagnosis  \n",
       "count  590.000000  \n",
       "mean     2.027119  \n",
       "std      0.804873  \n",
       "min      1.000000  \n",
       "25%      1.000000  \n",
       "50%      2.000000  \n",
       "75%      3.000000  \n",
       "max      3.000000  "
      ]
     },
     "execution_count": 4,
     "metadata": {},
     "output_type": "execute_result"
    }
   ],
   "source": [
    "pancreas.describe()"
   ]
  },
  {
   "cell_type": "markdown",
   "id": "5b59ed32",
   "metadata": {},
   "source": [
    "Get the total number of the data in each column"
   ]
  },
  {
   "cell_type": "code",
   "execution_count": 5,
   "id": "61cde193",
   "metadata": {},
   "outputs": [
    {
     "data": {
      "text/plain": [
       "Unnamed: 0       590\n",
       "age              590\n",
       "sex              590\n",
       "stage            590\n",
       "plasma_CA19_9    590\n",
       "creatinine       590\n",
       "LYVE1            590\n",
       "REG1B            590\n",
       "TFF1             590\n",
       "REG1A            590\n",
       "diagnosis        590\n",
       "dtype: int64"
      ]
     },
     "execution_count": 5,
     "metadata": {},
     "output_type": "execute_result"
    }
   ],
   "source": [
    "pancreas.count()"
   ]
  },
  {
   "cell_type": "markdown",
   "id": "e4e6c7ad",
   "metadata": {},
   "source": [
    "Finding whether there is any null value in the dataset"
   ]
  },
  {
   "cell_type": "code",
   "execution_count": 6,
   "id": "faf8b29b",
   "metadata": {},
   "outputs": [
    {
     "data": {
      "text/plain": [
       "Unnamed: 0       False\n",
       "age              False\n",
       "sex              False\n",
       "stage            False\n",
       "plasma_CA19_9    False\n",
       "creatinine       False\n",
       "LYVE1            False\n",
       "REG1B            False\n",
       "TFF1             False\n",
       "REG1A            False\n",
       "diagnosis        False\n",
       "dtype: bool"
      ]
     },
     "execution_count": 6,
     "metadata": {},
     "output_type": "execute_result"
    }
   ],
   "source": [
    "pancreas.isnull().any()"
   ]
  },
  {
   "cell_type": "markdown",
   "id": "5e5a2389",
   "metadata": {},
   "source": [
    "finding whether there is any data below to 12 years"
   ]
  },
  {
   "cell_type": "code",
   "execution_count": 7,
   "id": "0dc67fbe",
   "metadata": {},
   "outputs": [
    {
     "data": {
      "text/html": [
       "<div>\n",
       "<style scoped>\n",
       "    .dataframe tbody tr th:only-of-type {\n",
       "        vertical-align: middle;\n",
       "    }\n",
       "\n",
       "    .dataframe tbody tr th {\n",
       "        vertical-align: top;\n",
       "    }\n",
       "\n",
       "    .dataframe thead th {\n",
       "        text-align: right;\n",
       "    }\n",
       "</style>\n",
       "<table border=\"1\" class=\"dataframe\">\n",
       "  <thead>\n",
       "    <tr style=\"text-align: right;\">\n",
       "      <th></th>\n",
       "      <th>Unnamed: 0</th>\n",
       "      <th>age</th>\n",
       "      <th>sex</th>\n",
       "      <th>stage</th>\n",
       "      <th>plasma_CA19_9</th>\n",
       "      <th>creatinine</th>\n",
       "      <th>LYVE1</th>\n",
       "      <th>REG1B</th>\n",
       "      <th>TFF1</th>\n",
       "      <th>REG1A</th>\n",
       "      <th>diagnosis</th>\n",
       "    </tr>\n",
       "  </thead>\n",
       "  <tbody>\n",
       "  </tbody>\n",
       "</table>\n",
       "</div>"
      ],
      "text/plain": [
       "Empty DataFrame\n",
       "Columns: [Unnamed: 0, age, sex, stage, plasma_CA19_9, creatinine, LYVE1, REG1B, TFF1, REG1A, diagnosis]\n",
       "Index: []"
      ]
     },
     "execution_count": 7,
     "metadata": {},
     "output_type": "execute_result"
    }
   ],
   "source": [
    "younger=pancreas[(pancreas.age<=12)]\n",
    "younger.head()"
   ]
  },
  {
   "cell_type": "markdown",
   "id": "12d96cc4",
   "metadata": {},
   "source": [
    "there is no data in the dataset with less than 12 years of age "
   ]
  },
  {
   "cell_type": "markdown",
   "id": "899053b1",
   "metadata": {},
   "source": [
    "Statistical analysis"
   ]
  },
  {
   "cell_type": "code",
   "execution_count": 8,
   "id": "09d20891",
   "metadata": {},
   "outputs": [
    {
     "data": {
      "text/plain": [
       "59.07966101694915"
      ]
     },
     "execution_count": 8,
     "metadata": {},
     "output_type": "execute_result"
    }
   ],
   "source": [
    "pancreas[\"age\"].mean()"
   ]
  },
  {
   "cell_type": "code",
   "execution_count": 9,
   "id": "8fff9b29",
   "metadata": {},
   "outputs": [
    {
     "data": {
      "text/plain": [
       "60.0"
      ]
     },
     "execution_count": 9,
     "metadata": {},
     "output_type": "execute_result"
    }
   ],
   "source": [
    "pancreas[\"age\"].median()"
   ]
  },
  {
   "cell_type": "code",
   "execution_count": 10,
   "id": "c591c971",
   "metadata": {},
   "outputs": [
    {
     "data": {
      "text/plain": [
       "0    68\n",
       "dtype: int64"
      ]
     },
     "execution_count": 10,
     "metadata": {},
     "output_type": "execute_result"
    }
   ],
   "source": [
    "pancreas[\"age\"].mode()"
   ]
  },
  {
   "cell_type": "code",
   "execution_count": 11,
   "id": "76cd958e",
   "metadata": {},
   "outputs": [
    {
     "data": {
      "text/plain": [
       "13.109520117522253"
      ]
     },
     "execution_count": 11,
     "metadata": {},
     "output_type": "execute_result"
    }
   ],
   "source": [
    "pancreas[\"age\"].std()"
   ]
  },
  {
   "cell_type": "code",
   "execution_count": 12,
   "id": "7414c360",
   "metadata": {},
   "outputs": [
    {
     "data": {
      "text/plain": [
       "68    21\n",
       "58    20\n",
       "67    18\n",
       "66    18\n",
       "62    17\n",
       "      ..\n",
       "33     1\n",
       "85     1\n",
       "86     1\n",
       "88     1\n",
       "89     1\n",
       "Name: age, Length: 63, dtype: int64"
      ]
     },
     "execution_count": 12,
     "metadata": {},
     "output_type": "execute_result"
    }
   ],
   "source": [
    "pancreas[\"age\"].value_counts()"
   ]
  },
  {
   "cell_type": "markdown",
   "id": "861d9e94",
   "metadata": {},
   "source": [
    "Finding out the number of female patients"
   ]
  },
  {
   "cell_type": "code",
   "execution_count": null,
   "id": "b0aa5e59",
   "metadata": {},
   "outputs": [],
   "source": []
  },
  {
   "cell_type": "code",
   "execution_count": 13,
   "id": "c715e5d7",
   "metadata": {},
   "outputs": [
    {
     "data": {
      "text/html": [
       "<div>\n",
       "<style scoped>\n",
       "    .dataframe tbody tr th:only-of-type {\n",
       "        vertical-align: middle;\n",
       "    }\n",
       "\n",
       "    .dataframe tbody tr th {\n",
       "        vertical-align: top;\n",
       "    }\n",
       "\n",
       "    .dataframe thead th {\n",
       "        text-align: right;\n",
       "    }\n",
       "</style>\n",
       "<table border=\"1\" class=\"dataframe\">\n",
       "  <thead>\n",
       "    <tr style=\"text-align: right;\">\n",
       "      <th></th>\n",
       "      <th>Unnamed: 0</th>\n",
       "      <th>age</th>\n",
       "      <th>sex</th>\n",
       "      <th>stage</th>\n",
       "      <th>plasma_CA19_9</th>\n",
       "      <th>creatinine</th>\n",
       "      <th>LYVE1</th>\n",
       "      <th>REG1B</th>\n",
       "      <th>TFF1</th>\n",
       "      <th>REG1A</th>\n",
       "      <th>diagnosis</th>\n",
       "    </tr>\n",
       "  </thead>\n",
       "  <tbody>\n",
       "    <tr>\n",
       "      <th>0</th>\n",
       "      <td>0</td>\n",
       "      <td>33</td>\n",
       "      <td>0</td>\n",
       "      <td>0</td>\n",
       "      <td>11.700000</td>\n",
       "      <td>1.83222</td>\n",
       "      <td>0.893219</td>\n",
       "      <td>52.94884</td>\n",
       "      <td>654.282174</td>\n",
       "      <td>1262.000000</td>\n",
       "      <td>1</td>\n",
       "    </tr>\n",
       "    <tr>\n",
       "      <th>1</th>\n",
       "      <td>1</td>\n",
       "      <td>81</td>\n",
       "      <td>0</td>\n",
       "      <td>0</td>\n",
       "      <td>654.002944</td>\n",
       "      <td>0.97266</td>\n",
       "      <td>2.037585</td>\n",
       "      <td>94.46703</td>\n",
       "      <td>209.488250</td>\n",
       "      <td>228.407000</td>\n",
       "      <td>1</td>\n",
       "    </tr>\n",
       "    <tr>\n",
       "      <th>7</th>\n",
       "      <td>7</td>\n",
       "      <td>58</td>\n",
       "      <td>0</td>\n",
       "      <td>0</td>\n",
       "      <td>11.000000</td>\n",
       "      <td>0.89349</td>\n",
       "      <td>0.003574</td>\n",
       "      <td>3.73000</td>\n",
       "      <td>40.294000</td>\n",
       "      <td>735.281222</td>\n",
       "      <td>1</td>\n",
       "    </tr>\n",
       "    <tr>\n",
       "      <th>8</th>\n",
       "      <td>8</td>\n",
       "      <td>59</td>\n",
       "      <td>0</td>\n",
       "      <td>0</td>\n",
       "      <td>654.002944</td>\n",
       "      <td>0.48633</td>\n",
       "      <td>0.001945</td>\n",
       "      <td>7.02100</td>\n",
       "      <td>26.782000</td>\n",
       "      <td>735.281222</td>\n",
       "      <td>1</td>\n",
       "    </tr>\n",
       "    <tr>\n",
       "      <th>9</th>\n",
       "      <td>9</td>\n",
       "      <td>56</td>\n",
       "      <td>0</td>\n",
       "      <td>0</td>\n",
       "      <td>24.000000</td>\n",
       "      <td>0.61074</td>\n",
       "      <td>0.278778</td>\n",
       "      <td>83.92800</td>\n",
       "      <td>19.185000</td>\n",
       "      <td>735.281222</td>\n",
       "      <td>1</td>\n",
       "    </tr>\n",
       "  </tbody>\n",
       "</table>\n",
       "</div>"
      ],
      "text/plain": [
       "   Unnamed: 0  age  sex  stage  plasma_CA19_9  creatinine     LYVE1     REG1B  \\\n",
       "0           0   33    0      0      11.700000     1.83222  0.893219  52.94884   \n",
       "1           1   81    0      0     654.002944     0.97266  2.037585  94.46703   \n",
       "7           7   58    0      0      11.000000     0.89349  0.003574   3.73000   \n",
       "8           8   59    0      0     654.002944     0.48633  0.001945   7.02100   \n",
       "9           9   56    0      0      24.000000     0.61074  0.278778  83.92800   \n",
       "\n",
       "         TFF1        REG1A  diagnosis  \n",
       "0  654.282174  1262.000000          1  \n",
       "1  209.488250   228.407000          1  \n",
       "7   40.294000   735.281222          1  \n",
       "8   26.782000   735.281222          1  \n",
       "9   19.185000   735.281222          1  "
      ]
     },
     "execution_count": 13,
     "metadata": {},
     "output_type": "execute_result"
    }
   ],
   "source": [
    "female_no=pancreas[pancreas.sex==0]\n",
    "female_no.head()\n",
    "###print(\"The number of females in the dataset is \")"
   ]
  },
  {
   "cell_type": "markdown",
   "id": "057c54cd",
   "metadata": {},
   "source": [
    "Patients with creatine level more then 1"
   ]
  },
  {
   "cell_type": "code",
   "execution_count": 14,
   "id": "9b41797c",
   "metadata": {},
   "outputs": [
    {
     "data": {
      "text/html": [
       "<div>\n",
       "<style scoped>\n",
       "    .dataframe tbody tr th:only-of-type {\n",
       "        vertical-align: middle;\n",
       "    }\n",
       "\n",
       "    .dataframe tbody tr th {\n",
       "        vertical-align: top;\n",
       "    }\n",
       "\n",
       "    .dataframe thead th {\n",
       "        text-align: right;\n",
       "    }\n",
       "</style>\n",
       "<table border=\"1\" class=\"dataframe\">\n",
       "  <thead>\n",
       "    <tr style=\"text-align: right;\">\n",
       "      <th></th>\n",
       "      <th>Unnamed: 0</th>\n",
       "      <th>age</th>\n",
       "      <th>sex</th>\n",
       "      <th>stage</th>\n",
       "      <th>plasma_CA19_9</th>\n",
       "      <th>creatinine</th>\n",
       "      <th>LYVE1</th>\n",
       "      <th>REG1B</th>\n",
       "      <th>TFF1</th>\n",
       "      <th>REG1A</th>\n",
       "      <th>diagnosis</th>\n",
       "    </tr>\n",
       "  </thead>\n",
       "  <tbody>\n",
       "    <tr>\n",
       "      <th>0</th>\n",
       "      <td>0</td>\n",
       "      <td>33</td>\n",
       "      <td>0</td>\n",
       "      <td>0</td>\n",
       "      <td>11.700000</td>\n",
       "      <td>1.83222</td>\n",
       "      <td>0.893219</td>\n",
       "      <td>52.94884</td>\n",
       "      <td>654.282174</td>\n",
       "      <td>1262.000000</td>\n",
       "      <td>1</td>\n",
       "    </tr>\n",
       "    <tr>\n",
       "      <th>11</th>\n",
       "      <td>11</td>\n",
       "      <td>71</td>\n",
       "      <td>1</td>\n",
       "      <td>0</td>\n",
       "      <td>23.000000</td>\n",
       "      <td>1.05183</td>\n",
       "      <td>0.860337</td>\n",
       "      <td>243.08200</td>\n",
       "      <td>608.284000</td>\n",
       "      <td>735.281222</td>\n",
       "      <td>1</td>\n",
       "    </tr>\n",
       "    <tr>\n",
       "      <th>13</th>\n",
       "      <td>13</td>\n",
       "      <td>53</td>\n",
       "      <td>1</td>\n",
       "      <td>0</td>\n",
       "      <td>7.000000</td>\n",
       "      <td>1.91139</td>\n",
       "      <td>1.516773</td>\n",
       "      <td>150.89000</td>\n",
       "      <td>590.686000</td>\n",
       "      <td>735.281222</td>\n",
       "      <td>1</td>\n",
       "    </tr>\n",
       "    <tr>\n",
       "      <th>18</th>\n",
       "      <td>18</td>\n",
       "      <td>55</td>\n",
       "      <td>1</td>\n",
       "      <td>0</td>\n",
       "      <td>17.000000</td>\n",
       "      <td>1.28934</td>\n",
       "      <td>2.285351</td>\n",
       "      <td>67.46800</td>\n",
       "      <td>269.805000</td>\n",
       "      <td>735.281222</td>\n",
       "      <td>1</td>\n",
       "    </tr>\n",
       "    <tr>\n",
       "      <th>20</th>\n",
       "      <td>20</td>\n",
       "      <td>54</td>\n",
       "      <td>0</td>\n",
       "      <td>0</td>\n",
       "      <td>654.002944</td>\n",
       "      <td>1.24410</td>\n",
       "      <td>0.004976</td>\n",
       "      <td>5.50735</td>\n",
       "      <td>193.145661</td>\n",
       "      <td>113.000000</td>\n",
       "      <td>1</td>\n",
       "    </tr>\n",
       "  </tbody>\n",
       "</table>\n",
       "</div>"
      ],
      "text/plain": [
       "    Unnamed: 0  age  sex  stage  plasma_CA19_9  creatinine     LYVE1  \\\n",
       "0            0   33    0      0      11.700000     1.83222  0.893219   \n",
       "11          11   71    1      0      23.000000     1.05183  0.860337   \n",
       "13          13   53    1      0       7.000000     1.91139  1.516773   \n",
       "18          18   55    1      0      17.000000     1.28934  2.285351   \n",
       "20          20   54    0      0     654.002944     1.24410  0.004976   \n",
       "\n",
       "        REG1B        TFF1        REG1A  diagnosis  \n",
       "0    52.94884  654.282174  1262.000000          1  \n",
       "11  243.08200  608.284000   735.281222          1  \n",
       "13  150.89000  590.686000   735.281222          1  \n",
       "18   67.46800  269.805000   735.281222          1  \n",
       "20    5.50735  193.145661   113.000000          1  "
      ]
     },
     "execution_count": 14,
     "metadata": {},
     "output_type": "execute_result"
    }
   ],
   "source": [
    "creatine_high=pancreas[pancreas.creatinine>1]\n",
    "creatine_high.head(5)"
   ]
  },
  {
   "cell_type": "code",
   "execution_count": null,
   "id": "bbb9603f",
   "metadata": {},
   "outputs": [],
   "source": []
  },
  {
   "cell_type": "markdown",
   "id": "14bdb1fc",
   "metadata": {},
   "source": [
    "# Visualisation"
   ]
  },
  {
   "cell_type": "markdown",
   "id": "c1878a96",
   "metadata": {},
   "source": [
    "Univariant Analysis"
   ]
  },
  {
   "cell_type": "code",
   "execution_count": 15,
   "id": "212d4f29",
   "metadata": {},
   "outputs": [],
   "source": [
    "import seaborn as sns\n",
    "import matplotlib.pyplot as ppt"
   ]
  },
  {
   "cell_type": "code",
   "execution_count": 16,
   "id": "0bdbdd20",
   "metadata": {},
   "outputs": [
    {
     "data": {
      "text/plain": [
       "<AxesSubplot:xlabel='TFF1', ylabel='Count'>"
      ]
     },
     "execution_count": 16,
     "metadata": {},
     "output_type": "execute_result"
    },
    {
     "data": {
      "image/png": "[encoded data removed]",
      "text/plain": [
       "<Figure size 432x288 with 1 Axes>"
      ]
     },
     "metadata": {
      "needs_background": "light"
     },
     "output_type": "display_data"
    }
   ],
   "source": [
    "sns.histplot(pancreas[\"TFF1\"])"
   ]
  },
  {
   "cell_type": "code",
   "execution_count": 17,
   "id": "ca66be79",
   "metadata": {},
   "outputs": [
    {
     "name": "stderr",
     "output_type": "stream",
     "text": [
      "C:\\Users\\DELL\\anaconda3\\lib\\site-packages\\seaborn\\_decorators.py:36: FutureWarning: Pass the following variable as a keyword arg: x. From version 0.12, the only valid positional argument will be `data`, and passing other arguments without an explicit keyword will result in an error or misinterpretation.\n",
      "  warnings.warn(\n"
     ]
    },
    {
     "data": {
      "text/plain": [
       "<AxesSubplot:xlabel='age', ylabel='count'>"
      ]
     },
     "execution_count": 17,
     "metadata": {},
     "output_type": "execute_result"
    },
    {
     "data": {
      "image/png": "[encoded data removed]",
      "text/plain": [
       "<Figure size 432x288 with 1 Axes>"
      ]
     },
     "metadata": {
      "needs_background": "light"
     },
     "output_type": "display_data"
    }
   ],
   "source": [
    "sns.countplot(pancreas[\"age\"])"
   ]
  },
  {
   "cell_type": "code",
   "execution_count": 18,
   "id": "dcaa3eed",
   "metadata": {},
   "outputs": [
    {
     "data": {
      "text/plain": [
       "<seaborn.axisgrid.FacetGrid at 0x1d9acc7aeb0>"
      ]
     },
     "execution_count": 18,
     "metadata": {},
     "output_type": "execute_result"
    },
    {
     "data": {
      "image/png": "[encoded data removed]",
      "text/plain": [
       "<Figure size 360x360 with 1 Axes>"
      ]
     },
     "metadata": {
      "needs_background": "light"
     },
     "output_type": "display_data"
    }
   ],
   "source": [
    "sns.catplot(x=\"creatinine\",y=\"REG1B\",data=pancreas)"
   ]
  },
  {
   "cell_type": "code",
   "execution_count": null,
   "id": "7338eeee",
   "metadata": {},
   "outputs": [],
   "source": [
    "from sklearn.model_selection import train_test_split\n",
    "x_train, x_test, y_train, y_test = train_test_split(x, y, test_size = 0.2, random_state = 1)"
   ]
  }
 ],
 "metadata": {
  "kernelspec": {
   "display_name": "Python 3",
   "language": "python",
   "name": "python3"
  },
  "language_info": {
   "codemirror_mode": {
    "name": "ipython",
    "version": 3
   },
   "file_extension": ".py",
   "mimetype": "text/x-python",
   "name": "python",
   "nbconvert_exporter": "python",
   "pygments_lexer": "ipython3",
   "version": "3.8.8"
  }
 },
 "nbformat": 4,
 "nbformat_minor": 5
}
